# IMPORT TCX

# tcx_file_name = st.file_uploader("Name of TCX data file you would like to merge", type = ['tcx'])

from pathlib import Path

!ls ../data
tcx_file_name = Path("../data/2021_09_26_17_09_Chamonix_Ride_Part_1,_France.tcx")
from xml.etree import ElementTree as et
#new_tcx = ''.join(data_df.apply(convert_csv_row_to_xml, axis=1))

#data_df = load_cached_walking_data()
#sb.datasize = data_df.memory_usage(deep=True).sum() / 1024 / 1024

# CONVERT TCX to CSV - instead let's just make tcx into a pandas data frame.

xtree = et.parse(tcx_file_name)
xroot = xtree.getroot() 

df_cols = ["DistanceMeters", "Cadence", "Calories", "HeartRateBPM", "Time", "AltitudeMeters", "LongitudeDegrees", "LatitudeDegrees"]
rows = []
xroot
for inode, node in enumerate(xroot):
    for inode2, node2 in enumerate(node):
        if inode2 < 10:
            print(inode2, node2)
    #DistanceMeters = node.find("DistanceMeters").text if node is not None else None
    #Cadence = node.find("Cadence").text if node is not None else None
    #Calories = node.find("Calories").text if node is not None else None
    #HeartRateBPM = node.find("HeartRateBPM").text if node is not None else None
    #Time = node.attrib.get("Time").text if node is not None else None
    #AltitudeMeters = node.find("AltitudeMeters").text if node is not None else None
    #LongitudeDegrees = node.find("LongitudeDegrees").text if node is not None else None
    #LatitudeDegrees = node.find("LatitudeDegrees").text if node is not None else None

    #rows.append({"DistanceMeters": DistanceMeters}) 
                 #"Cadence": Cadence, 
                #"Calories": Calories, "HeartRateBPM": HeartRateBPM,
                #"Time": Time, "AltitudeMeters": AltitudeMeters, 
                #"LongitudeDegrees": LongitudeDegrees, "LatitudeDegrees": LatitudeDegrees})

    #tcx_df = pd.DataFrame(rows, columns = df_cols)

    # show_raw_xml = st.checkbox("Show raw XML data")
#if show_raw_xml:
#    st.write(tcx_df)


