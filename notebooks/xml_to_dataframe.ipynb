{
 "cells": [
  {
   "cell_type": "code",
   "execution_count": 1,
   "metadata": {},
   "outputs": [],
   "source": [
    "from xml.etree import ElementTree as et\n",
    "from pathlib import Path"
   ]
  },
  {
   "cell_type": "markdown",
   "metadata": {},
   "source": [
    "## XML to Pandas Dataframe Experiments\n",
    "\n",
    "[https://towardsdatascience.com/extracting-information-from-xml-files-into-a-pandas-dataframe-11f32883ce45](https://towardsdatascience.com/extracting-information-from-xml-files-into-a-pandas-dataframe-11f32883ce45)"
   ]
  },
  {
   "cell_type": "code",
   "execution_count": 2,
   "metadata": {},
   "outputs": [
    {
     "name": "stdout",
     "output_type": "stream",
     "text": [
      "../data/2021_09_26_17_09_Chamonix_Ride_Part_1,_France.tcx\n",
      "data/2021_09_26_17_09_Chamonix_Ride_Part_1,_France.tcx\n"
     ]
    }
   ],
   "source": [
    "# Reading the first file\n",
    "filename = \"2021_09_26_17_09_Chamonix_Ride_Part_1,_France.tcx\"\n",
    "filepath = \"../data\"\n",
    "datafile = filepath / Path(filename)\n",
    "\n",
    "print(datafile)\n",
    "print(\"data/2021_09_26_17_09_Chamonix_Ride_Part_1,_France.tcx\")"
   ]
  },
  {
   "cell_type": "code",
   "execution_count": 3,
   "metadata": {},
   "outputs": [
    {
     "data": {
      "text/plain": [
       "[PosixPath('../data/2021_09_10_15_09_Sassafras_Power_Climb,_Sunset,_South_Carolina.csv'),\n",
       " PosixPath('../data/2021_09_26_17_09_Chamonix_Ride_Part_1,_France.csv'),\n",
       " PosixPath('../data/2021_09_26_17_09_Chamonix_Ride_Part_1,_France.tcx'),\n",
       " PosixPath('../data/2021_09_26_17_09_Chamonix_Ride_Part_1,_France.tcx.xml'),\n",
       " PosixPath('../data/2021_09_29_18_09_Chamonix_Ride_Part_2,_France.csv'),\n",
       " PosixPath('../data/2021_09_29_18_09_Chamonix_Ride_Part_2,_France.tcx'),\n",
       " PosixPath('../data/README.md')]"
      ]
     },
     "execution_count": 3,
     "metadata": {},
     "output_type": "execute_result"
    }
   ],
   "source": [
    "[x for x in Path(filepath).glob(\"*\")]"
   ]
  },
  {
   "cell_type": "markdown",
   "metadata": {},
   "source": []
  },
  {
   "cell_type": "code",
   "execution_count": 4,
   "metadata": {},
   "outputs": [
    {
     "name": "stdout",
     "output_type": "stream",
     "text": [
      "2021_09_10_15_09_Sassafras_Power_Climb,_Sunset,_South_Carolina.csv\n",
      "2021_09_26_17_09_Chamonix_Ride_Part_1,_France.csv\n",
      "2021_09_26_17_09_Chamonix_Ride_Part_1,_France.tcx\n",
      "2021_09_26_17_09_Chamonix_Ride_Part_1,_France.tcx.xml\n",
      "2021_09_29_18_09_Chamonix_Ride_Part_2,_France.csv\n",
      "2021_09_29_18_09_Chamonix_Ride_Part_2,_France.tcx\n",
      "README.md\n"
     ]
    }
   ],
   "source": [
    "!ls ../data"
   ]
  },
  {
   "cell_type": "code",
   "execution_count": 5,
   "metadata": {},
   "outputs": [
    {
     "data": {
      "text/plain": [
       "[PosixPath('../data/2021_09_10_15_09_Sassafras_Power_Climb,_Sunset,_South_Carolina.csv'),\n",
       " PosixPath('../data/2021_09_26_17_09_Chamonix_Ride_Part_1,_France.csv'),\n",
       " PosixPath('../data/2021_09_26_17_09_Chamonix_Ride_Part_1,_France.tcx'),\n",
       " PosixPath('../data/2021_09_26_17_09_Chamonix_Ride_Part_1,_France.tcx.xml'),\n",
       " PosixPath('../data/2021_09_29_18_09_Chamonix_Ride_Part_2,_France.csv'),\n",
       " PosixPath('../data/2021_09_29_18_09_Chamonix_Ride_Part_2,_France.tcx'),\n",
       " PosixPath('../data/README.md')]"
      ]
     },
     "execution_count": 5,
     "metadata": {},
     "output_type": "execute_result"
    }
   ],
   "source": [
    "[filename for filename in Path(filepath).glob(\"*\") if filename.is_file()]"
   ]
  },
  {
   "cell_type": "code",
   "execution_count": 6,
   "metadata": {},
   "outputs": [
    {
     "data": {
      "text/plain": [
       "PosixPath('../data/2021_09_26_17_09_Chamonix_Ride_Part_1,_France.tcx')"
      ]
     },
     "execution_count": 6,
     "metadata": {},
     "output_type": "execute_result"
    }
   ],
   "source": [
    "datafile"
   ]
  },
  {
   "cell_type": "code",
   "execution_count": 7,
   "metadata": {},
   "outputs": [
    {
     "ename": "ModuleNotFoundError",
     "evalue": "No module named 'importlib.metadata'",
     "output_type": "error",
     "traceback": [
      "\u001b[0;31m---------------------------------------------------------------------------\u001b[0m",
      "\u001b[0;31mModuleNotFoundError\u001b[0m                       Traceback (most recent call last)",
      "\u001b[0;32m/tmp/ipykernel_4945/2556430630.py\u001b[0m in \u001b[0;36m<module>\u001b[0;34m\u001b[0m\n\u001b[0;32m----> 1\u001b[0;31m \u001b[0;32mfrom\u001b[0m \u001b[0mdatabooth\u001b[0m\u001b[0;34m.\u001b[0m\u001b[0mparse_xml\u001b[0m \u001b[0;32mimport\u001b[0m \u001b[0mparse_XML\u001b[0m\u001b[0;34m\u001b[0m\u001b[0;34m\u001b[0m\u001b[0m\n\u001b[0m",
      "\u001b[0;32m/workspace/client-youngm-ifit/src/databooth/__init__.py\u001b[0m in \u001b[0;36m<module>\u001b[0;34m\u001b[0m\n\u001b[1;32m      3\u001b[0m \u001b[0;32mif\u001b[0m \u001b[0msys\u001b[0m\u001b[0;34m.\u001b[0m\u001b[0mversion_info\u001b[0m\u001b[0;34m[\u001b[0m\u001b[0;34m:\u001b[0m\u001b[0;36m2\u001b[0m\u001b[0;34m]\u001b[0m \u001b[0;34m>=\u001b[0m \u001b[0;34m(\u001b[0m\u001b[0;36m3\u001b[0m\u001b[0;34m,\u001b[0m \u001b[0;36m8\u001b[0m\u001b[0;34m)\u001b[0m\u001b[0;34m:\u001b[0m\u001b[0;34m\u001b[0m\u001b[0;34m\u001b[0m\u001b[0m\n\u001b[1;32m      4\u001b[0m     \u001b[0;31m# TODO: Import directly (no need for conditional) when `python_requires = >= 3.8`\u001b[0m\u001b[0;34m\u001b[0m\u001b[0;34m\u001b[0m\u001b[0m\n\u001b[0;32m----> 5\u001b[0;31m     \u001b[0;32mfrom\u001b[0m \u001b[0mimportlib\u001b[0m\u001b[0;34m.\u001b[0m\u001b[0mmetadata\u001b[0m \u001b[0;32mimport\u001b[0m \u001b[0mPackageNotFoundError\u001b[0m\u001b[0;34m,\u001b[0m \u001b[0mversion\u001b[0m  \u001b[0;31m# pragma: no cover\u001b[0m\u001b[0;34m\u001b[0m\u001b[0;34m\u001b[0m\u001b[0m\n\u001b[0m\u001b[1;32m      6\u001b[0m \u001b[0;32melse\u001b[0m\u001b[0;34m:\u001b[0m\u001b[0;34m\u001b[0m\u001b[0;34m\u001b[0m\u001b[0m\n\u001b[1;32m      7\u001b[0m     \u001b[0;32mfrom\u001b[0m \u001b[0mimportlib_metadata\u001b[0m \u001b[0;32mimport\u001b[0m \u001b[0mPackageNotFoundError\u001b[0m\u001b[0;34m,\u001b[0m \u001b[0mversion\u001b[0m  \u001b[0;31m# pragma: no cover\u001b[0m\u001b[0;34m\u001b[0m\u001b[0;34m\u001b[0m\u001b[0m\n",
      "\u001b[0;31mModuleNotFoundError\u001b[0m: No module named 'importlib.metadata'"
     ]
    }
   ],
   "source": [
    "from databooth.parse_xml import parse_XML"
   ]
  },
  {
   "cell_type": "code",
   "execution_count": 9,
   "metadata": {},
   "outputs": [
    {
     "ename": "NameError",
     "evalue": "name 'et' is not defined",
     "output_type": "error",
     "traceback": [
      "\u001b[0;31m---------------------------------------------------------------------------\u001b[0m",
      "\u001b[0;31mNameError\u001b[0m                                 Traceback (most recent call last)",
      "\u001b[0;32m/tmp/ipykernel_4896/836120129.py\u001b[0m in \u001b[0;36m<module>\u001b[0;34m\u001b[0m\n\u001b[0;32m----> 1\u001b[0;31m \u001b[0mparse_XML\u001b[0m\u001b[0;34m(\u001b[0m\u001b[0;34m\"students.xml\"\u001b[0m\u001b[0;34m,\u001b[0m \u001b[0;34m[\u001b[0m\u001b[0;34m\"name\"\u001b[0m\u001b[0;34m,\u001b[0m \u001b[0;34m\"email\"\u001b[0m\u001b[0;34m,\u001b[0m \u001b[0;34m\"grade\"\u001b[0m\u001b[0;34m,\u001b[0m \u001b[0;34m\"age\"\u001b[0m\u001b[0;34m]\u001b[0m\u001b[0;34m)\u001b[0m\u001b[0;34m\u001b[0m\u001b[0;34m\u001b[0m\u001b[0m\n\u001b[0m",
      "\u001b[0;32m/workspace/client-youngm-ifit/src/databooth/parse_xml.py\u001b[0m in \u001b[0;36mparse_XML\u001b[0;34m(xml_file, df_cols)\u001b[0m\n\u001b[1;32m     14\u001b[0m     \"\"\"\n\u001b[1;32m     15\u001b[0m \u001b[0;34m\u001b[0m\u001b[0m\n\u001b[0;32m---> 16\u001b[0;31m     \u001b[0mxtree\u001b[0m \u001b[0;34m=\u001b[0m \u001b[0met\u001b[0m\u001b[0;34m.\u001b[0m\u001b[0mparse\u001b[0m\u001b[0;34m(\u001b[0m\u001b[0mxml_file\u001b[0m\u001b[0;34m)\u001b[0m\u001b[0;34m\u001b[0m\u001b[0;34m\u001b[0m\u001b[0m\n\u001b[0m\u001b[1;32m     17\u001b[0m     \u001b[0mxroot\u001b[0m \u001b[0;34m=\u001b[0m \u001b[0mxtree\u001b[0m\u001b[0;34m.\u001b[0m\u001b[0mgetroot\u001b[0m\u001b[0;34m(\u001b[0m\u001b[0;34m)\u001b[0m\u001b[0;34m\u001b[0m\u001b[0;34m\u001b[0m\u001b[0m\n\u001b[1;32m     18\u001b[0m     \u001b[0mrows\u001b[0m \u001b[0;34m=\u001b[0m \u001b[0;34m[\u001b[0m\u001b[0;34m]\u001b[0m\u001b[0;34m\u001b[0m\u001b[0;34m\u001b[0m\u001b[0m\n",
      "\u001b[0;31mNameError\u001b[0m: name 'et' is not defined"
     ]
    }
   ],
   "source": [
    "parse_XML(\"students.xml\", [\"name\", \"email\", \"grade\", \"age\"])"
   ]
  },
  {
   "cell_type": "code",
   "execution_count": 47,
   "metadata": {},
   "outputs": [
    {
     "name": "stdout",
     "output_type": "stream",
     "text": [
      "{http://www.garmin.com/xmlschemas/TrainingCenterDatabase/v2}TrainingCenterDatabase {'{http://www.w3.org/2001/XMLSchema-instance}schemaLocation': 'http://www.garmin.com/xmlschemas/TrainingCenterDatabase/v2 http://www.garmin.com/xmlschemas/TrainingCenterDatabasev2.xsd'}\n"
     ]
    }
   ],
   "source": [
    "\n",
    "tree = et.parse(datafile)\n",
    "root = tree.getroot()\n",
    "print(root.tag, root.attrib)"
   ]
  },
  {
   "cell_type": "code",
   "execution_count": 49,
   "metadata": {},
   "outputs": [
    {
     "name": "stdout",
     "output_type": "stream",
     "text": [
      "{http://www.garmin.com/xmlschemas/TrainingCenterDatabase/v2}Activities {}\n",
      "{http://www.garmin.com/xmlschemas/TrainingCenterDatabase/v2}Author {'{http://www.w3.org/2001/XMLSchema-instance}type': 'Application_t'}\n"
     ]
    }
   ],
   "source": [
    "for child in root:     \n",
    "    print(child.tag, child.attrib)"
   ]
  },
  {
   "cell_type": "code",
   "execution_count": 53,
   "metadata": {},
   "outputs": [],
   "source": [
    "# See all of the XML string\n",
    "\n",
    "# et.tostring(root, encoding='utf8').decode('utf8')"
   ]
  },
  {
   "cell_type": "markdown",
   "metadata": {},
   "source": [
    "### Parsing XML Data in Python\n",
    "#### Storing XML Data in a Pandas Dataframe\n",
    "Sadrach Pierre, Ph.D. May 7, 2020\n",
    "\n",
    "[https://towardsdatascience.com/parsing-xml-data-in-python-da26288280e1](https://towardsdatascience.com/parsing-xml-data-in-python-da26288280e1)"
   ]
  },
  {
   "cell_type": "code",
   "execution_count": null,
   "metadata": {},
   "outputs": [],
   "source": []
  }
 ],
 "metadata": {
  "interpreter": {
   "hash": "3c3d255cdf6bc47c6d5db279d7c7d06b837f24740767497848c8cd558167966d"
  },
  "kernelspec": {
   "display_name": "base",
   "language": "python",
   "name": "python3"
  },
  "language_info": {
   "codemirror_mode": {
    "name": "ipython",
    "version": 3
   },
   "file_extension": ".py",
   "mimetype": "text/x-python",
   "name": "python",
   "nbconvert_exporter": "python",
   "pygments_lexer": "ipython3",
   "version": "3.9.7"
  },
  "orig_nbformat": 4
 },
 "nbformat": 4,
 "nbformat_minor": 2
}
