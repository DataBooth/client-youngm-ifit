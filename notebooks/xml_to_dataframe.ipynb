{
 "cells": [
  {
   "cell_type": "code",
   "execution_count": null,
   "metadata": {},
   "outputs": [],
   "source": [
    "import ElementTree as et"
   ]
  },
  {
   "cell_type": "markdown",
   "metadata": {},
   "source": [
    "XML to Pandas Dataframe Experiments"
   ]
  },
  {
   "cell_type": "code",
   "execution_count": null,
   "metadata": {},
   "outputs": [],
   "source": [
    "# Reading the first file\n",
    "file_path = \"data/2021_09_26_17_09_Chamonix_Ride_Part_1,_France.tcx\"\n",
    "\n",
    "tree = et.parse(file_path)\n",
    "root = tree.getroot()\n",
    "print(root.tag, root.attrib)"
   ]
  }
 ],
 "metadata": {
  "language_info": {
   "name": "python"
  },
  "orig_nbformat": 4
 },
 "nbformat": 4,
 "nbformat_minor": 2
}
