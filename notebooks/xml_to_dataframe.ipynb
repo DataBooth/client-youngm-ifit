{
 "cells": [
  {
   "cell_type": "code",
   "execution_count": 5,
   "metadata": {},
   "outputs": [],
   "source": [
    "from xml.etree import ElementTree as et\n",
    "from pathlib import Path"
   ]
  },
  {
   "cell_type": "markdown",
   "metadata": {},
   "source": [
    "XML to Pandas Dataframe Experiments"
   ]
  },
  {
   "cell_type": "code",
   "execution_count": null,
   "metadata": {},
   "outputs": [],
   "source": []
  },
  {
   "cell_type": "code",
   "execution_count": 39,
   "metadata": {},
   "outputs": [
    {
     "name": "stdout",
     "output_type": "stream",
     "text": [
      "../data/2021_09_26_17_09_Chamonix_Ride_Part_1,_France.tcx\n",
      "data/2021_09_26_17_09_Chamonix_Ride_Part_1,_France.tcx\n"
     ]
    }
   ],
   "source": [
    "# Reading the first file\n",
    "filename = \"2021_09_26_17_09_Chamonix_Ride_Part_1,_France.tcx\"\n",
    "filepath = \"../data\"\n",
    "datafile = filepath / Path(filename)\n",
    "\n",
    "print(datafile)\n",
    "print(\"data/2021_09_26_17_09_Chamonix_Ride_Part_1,_France.tcx\")"
   ]
  },
  {
   "cell_type": "code",
   "execution_count": 44,
   "metadata": {},
   "outputs": [
    {
     "data": {
      "text/plain": [
       "[PosixPath('../data/2021_09_10_15_09_Sassafras_Power_Climb,_Sunset,_South_Carolina.csv'),\n",
       " PosixPath('../data/2021_09_26_17_09_Chamonix_Ride_Part_1,_France.csv'),\n",
       " PosixPath('../data/2021_09_26_17_09_Chamonix_Ride_Part_1,_France.tcx'),\n",
       " PosixPath('../data/2021_09_29_18_09_Chamonix_Ride_Part_2,_France.csv'),\n",
       " PosixPath('../data/2021_09_29_18_09_Chamonix_Ride_Part_2,_France.tcx'),\n",
       " PosixPath('../data/README.md')]"
      ]
     },
     "execution_count": 44,
     "metadata": {},
     "output_type": "execute_result"
    }
   ],
   "source": [
    "[x for x in Path(filepath).glob(\"*\")]"
   ]
  },
  {
   "cell_type": "code",
   "execution_count": 37,
   "metadata": {},
   "outputs": [
    {
     "name": "stdout",
     "output_type": "stream",
     "text": [
      "2021_09_10_15_09_Sassafras_Power_Climb,_Sunset,_South_Carolina.csv\n",
      "2021_09_26_17_09_Chamonix_Ride_Part_1,_France.csv\n",
      "2021_09_26_17_09_Chamonix_Ride_Part_1,_France.tcx\n",
      "2021_09_29_18_09_Chamonix_Ride_Part_2,_France.csv\n",
      "2021_09_29_18_09_Chamonix_Ride_Part_2,_France.tcx\n",
      "README.md\n"
     ]
    }
   ],
   "source": [
    "!ls ../data"
   ]
  },
  {
   "cell_type": "code",
   "execution_count": 45,
   "metadata": {},
   "outputs": [
    {
     "data": {
      "text/plain": [
       "[PosixPath('../data/2021_09_10_15_09_Sassafras_Power_Climb,_Sunset,_South_Carolina.csv'),\n",
       " PosixPath('../data/2021_09_26_17_09_Chamonix_Ride_Part_1,_France.csv'),\n",
       " PosixPath('../data/2021_09_26_17_09_Chamonix_Ride_Part_1,_France.tcx'),\n",
       " PosixPath('../data/2021_09_29_18_09_Chamonix_Ride_Part_2,_France.csv'),\n",
       " PosixPath('../data/2021_09_29_18_09_Chamonix_Ride_Part_2,_France.tcx'),\n",
       " PosixPath('../data/README.md')]"
      ]
     },
     "execution_count": 45,
     "metadata": {},
     "output_type": "execute_result"
    }
   ],
   "source": [
    "[filename for filename in Path(filepath).glob(\"*\") if filename.is_file()]"
   ]
  },
  {
   "cell_type": "code",
   "execution_count": 46,
   "metadata": {},
   "outputs": [
    {
     "data": {
      "text/plain": [
       "PosixPath('../data/2021_09_26_17_09_Chamonix_Ride_Part_1,_France.tcx')"
      ]
     },
     "execution_count": 46,
     "metadata": {},
     "output_type": "execute_result"
    }
   ],
   "source": [
    "datafile"
   ]
  },
  {
   "cell_type": "code",
   "execution_count": 47,
   "metadata": {},
   "outputs": [
    {
     "name": "stdout",
     "output_type": "stream",
     "text": [
      "{http://www.garmin.com/xmlschemas/TrainingCenterDatabase/v2}TrainingCenterDatabase {'{http://www.w3.org/2001/XMLSchema-instance}schemaLocation': 'http://www.garmin.com/xmlschemas/TrainingCenterDatabase/v2 http://www.garmin.com/xmlschemas/TrainingCenterDatabasev2.xsd'}\n"
     ]
    }
   ],
   "source": [
    "\n",
    "tree = et.parse(datafile)\n",
    "root = tree.getroot()\n",
    "print(root.tag, root.attrib)"
   ]
  },
  {
   "cell_type": "code",
   "execution_count": null,
   "metadata": {},
   "outputs": [],
   "source": []
  }
 ],
 "metadata": {
  "kernelspec": {
   "display_name": "base",
   "language": "python",
   "name": "base"
  },
  "language_info": {
   "codemirror_mode": {
    "name": "ipython",
    "version": 3
   },
   "file_extension": ".py",
   "mimetype": "text/x-python",
   "name": "python",
   "nbconvert_exporter": "python",
   "pygments_lexer": "ipython3",
   "version": "3.8.12"
  },
  "orig_nbformat": 4
 },
 "nbformat": 4,
 "nbformat_minor": 2
}
