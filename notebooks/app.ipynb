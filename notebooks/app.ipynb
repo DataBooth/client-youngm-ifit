{
 "cells": [
  {
   "cell_type": "markdown",
   "metadata": {},
   "source": [
    "## Jupyter Notebook version of app.py (Streamlit.io app)"
   ]
  },
  {
   "cell_type": "code",
   "execution_count": 1,
   "metadata": {},
   "outputs": [],
   "source": [
    "#TODO: Get this sorted & understand this e.g. https://www.alpharithms.com/python-__all__-variable-582315/\n",
    "\n",
    "__all__ = ['DATA_INFO', 'AUTHOR_INFO', 'APP_NAME', \n",
    "            'SideBar', 'app_sidebar', 'IMAGE_PATH', \n",
    "            'load_cached_data', 'app_mainscreen', 'sb']"
   ]
  },
  {
   "cell_type": "code",
   "execution_count": 1,
   "metadata": {},
   "outputs": [],
   "source": [
    "import numpy as np\n",
    "import pandas as pd\n",
    "import datetime as dt\n",
    "import csv\n",
    "\n",
    "from pathlib import Path\n",
    "import streamlit as st\n",
    "from xml.etree import ElementTree as et\n",
    "\n",
    "from PIL import Image\n",
    "from IPython.display import display"
   ]
  },
  {
   "cell_type": "code",
   "execution_count": 7,
   "metadata": {},
   "outputs": [],
   "source": [
    "# from src.databooth.convert_data import set_local_or_remote_data_path"
   ]
  },
  {
   "cell_type": "code",
   "execution_count": null,
   "metadata": {},
   "outputs": [],
   "source": [
    "# TODO: Following is a hack to fix issue with import paths using in notebook vs. script\n",
    "\n",
    "# try:\n",
    "#     from .datapipe import load_and_cache_raw_data\n",
    "# except:\n",
    "#    from datapipe import load_and_cache_raw_data\n"
   ]
  },
  {
   "cell_type": "code",
   "execution_count": 10,
   "metadata": {},
   "outputs": [],
   "source": [
    "\n",
    "# TODO: Link in read .toml config & secrets\n",
    "\n",
    "DATA_INFO = 'Supplied by Client (YoungM)'\n",
    "AUTHOR_INFO = 'Aaron Chin @ DataBooth.com.au'\n",
    "APP_NAME = \"iFit Data Conversion app\"\n",
    "CACHED_DATA = 'TODO: Data cache file'\n",
    "CLIENT_NAME = 'Mick Young'\n",
    "\n",
    "st.set_page_config(page_title=APP_NAME, layout='wide')\n",
    "\n",
    "AVATAR_URL = \"https://www.w3schools.com/howto/img_avatar.png\"\n",
    "IFIT_BRAND_URL = \"https://images.contentstack.io/v3/assets/blt1d89a78b502b83f3/blt000cfbfbc534f253/615468f7c3934450a14e3233/img_bikes_hero_dsk.jpg?q=90\"\n",
    "#IMAGE_PATH = 'st-app/resources'\n",
    "#IMAGE_PATH = Path.cwd().resolve()/IMAGE_PATH\n",
    "\n",
    "#def ST_APP_CONFIG_TOML = Path().cwd().parent / \\\"app_secrets.toml\\\"\n"
   ]
  },
  {
   "cell_type": "code",
   "execution_count": 8,
   "metadata": {},
   "outputs": [],
   "source": [
    "\n",
    "def convert_csv_row_to_xml(row):\n",
    "    return \"\"\"<Time>%s</Time>\n",
    "    <Miles>%s</Miles>\n",
    "    <MPH>%s</MPH>\n",
    "    <Watts>%s</Watts>\n",
    "    <HR>%s</HR>\n",
    "    <RPM>%s</RPM>\n",
    "    <Resistance>%s</Resistance>\n",
    "    <Relative Resistance>%s</Relative Resistance>\n",
    "    <Incline>%s</Incline>\"\"\" % (row.Time, row.Miles, row.MPH, row.Watts, row.HR, row.RPM, row.Resistance, row.RelativeResistance, row.Incline)\n",
    "\n",
    "def convert_csv_row_to_xml(row):\n",
    "    return \"\"\"<Time>%s</Time>\n",
    "    <Miles>%s</Miles>\n",
    "    <MPH>%s</MPH>\n",
    "    <Watts>%s</Watts>\n",
    "    <HR>%s</HR>\n",
    "    <RPM>%s</RPM>\n",
    "    <Resistance>%s</Resistance>\n",
    "    <Relative Resistance>%s</Relative Resistance>\n",
    "    <Incline>%s</Incline>\"\"\" % (row.Time, row.Miles, row.MPH, row.Watts, row.HR, row.RPM, row.Resistance, row.RelativeResistance, row.Incline)\n"
   ]
  },
  {
   "cell_type": "code",
   "execution_count": 11,
   "metadata": {},
   "outputs": [],
   "source": [
    "\n",
    "class SideBar:\n",
    "    app_name = APP_NAME\n",
    "    client_name = CLIENT_NAME\n",
    "    datasource = DATA_INFO\n",
    "    datasize = 0   # TODO: Look to calculate this (in GB)\n",
    "    author = AUTHOR_INFO\n",
    "    data_title = 'Data details...'\n",
    "    data_local = False\n",
    "    today_date = dt.date.today()\n",
    "    file_name = \"Select CSV file...\"\n",
    "#   end_date = dt.date.today()\n",
    "#    selected_data = None\n",
    "\n"
   ]
  },
  {
   "cell_type": "code",
   "execution_count": 12,
   "metadata": {},
   "outputs": [],
   "source": [
    "\n",
    "def app_sidebar(APP_NAME):\n",
    "    sb = SideBar()\n",
    "    st.sidebar.info(\"Menu\")\n",
    "    # col1, col2 = st.sidebar.beta_columns(2)\n",
    "\n",
    "    #with col1:\n",
    "        #st.write(IMAGE_URL)\n",
    "        #mage1 = Image.open(IMAGE_PATH/'AppleWatchExercise.jpeg').resize((144, 144))  # NOTE: resize done here\n",
    "    st.sidebar.image(image=IFIT_BRAND_URL, use_column_width=True, output_format='PNG')\n",
    "    #with col2:\n",
    "        #st.markdown(\"## TODO\")\n",
    "        #image2 = Image.open(IMAGE_PATH/'HealthFitLogo.png')\n",
    "        #st.image(image=image2, use_column_width=True, output_format='PNG')\n",
    "\n",
    "    st.sidebar.markdown(sb.author)\n",
    "\n",
    "    return sb\n",
    "\n"
   ]
  },
  {
   "cell_type": "code",
   "execution_count": 13,
   "metadata": {},
   "outputs": [],
   "source": [
    "\n",
    "# @st.cache\n",
    "def load_and_cache_data():\n",
    "    data_df = pd.read_feather(CACHED_DATA)   # load cached (downsampled) data\n",
    "    return data_df\n",
    "\n"
   ]
  },
  {
   "cell_type": "code",
   "execution_count": 14,
   "metadata": {},
   "outputs": [
    {
     "name": "stderr",
     "output_type": "stream",
     "text": [
      "2021-11-20 14:04:45.600 \n",
      "  \u001b[33m\u001b[1mWarning:\u001b[0m to view this Streamlit app on a browser, run it with the following\n",
      "  command:\n",
      "\n",
      "    streamlit run /workspace/miniforge3/envs/client-youngm-ifit/lib/python3.8/site-packages/ipykernel_launcher.py [ARGUMENTS]\n"
     ]
    },
    {
     "ename": "TypeError",
     "evalue": "expected str, bytes or os.PathLike object, not NoneType",
     "output_type": "error",
     "traceback": [
      "\u001b[0;31m---------------------------------------------------------------------------\u001b[0m",
      "\u001b[0;31mTypeError\u001b[0m                                 Traceback (most recent call last)",
      "\u001b[0;32m/tmp/ipykernel_2817/647594334.py\u001b[0m in \u001b[0;36m<module>\u001b[0;34m\u001b[0m\n\u001b[1;32m     65\u001b[0m \u001b[0msb\u001b[0m \u001b[0;34m=\u001b[0m \u001b[0mapp_sidebar\u001b[0m\u001b[0;34m(\u001b[0m\u001b[0mAPP_NAME\u001b[0m\u001b[0;34m)\u001b[0m\u001b[0;34m\u001b[0m\u001b[0;34m\u001b[0m\u001b[0m\n\u001b[1;32m     66\u001b[0m \u001b[0;34m\u001b[0m\u001b[0m\n\u001b[0;32m---> 67\u001b[0;31m \u001b[0mapp_mainscreen\u001b[0m\u001b[0;34m(\u001b[0m\u001b[0mAPP_NAME\u001b[0m\u001b[0;34m,\u001b[0m \u001b[0msb\u001b[0m\u001b[0;34m)\u001b[0m\u001b[0;34m\u001b[0m\u001b[0;34m\u001b[0m\u001b[0m\n\u001b[0m\u001b[1;32m     68\u001b[0m \u001b[0;34m\u001b[0m\u001b[0m\n\u001b[1;32m     69\u001b[0m \u001b[0;31m# TODO: display XML bug?\u001b[0m\u001b[0;34m\u001b[0m\u001b[0;34m\u001b[0m\u001b[0;34m\u001b[0m\u001b[0m\n",
      "\u001b[0;32m/tmp/ipykernel_2817/647594334.py\u001b[0m in \u001b[0;36mapp_mainscreen\u001b[0;34m(APP_NAME, sb)\u001b[0m\n\u001b[1;32m     32\u001b[0m \u001b[0;34m\u001b[0m\u001b[0m\n\u001b[1;32m     33\u001b[0m     \u001b[0;31m# CONVERT TCX to CSV - instead let's just make tcx into a pandas data frame.\u001b[0m\u001b[0;34m\u001b[0m\u001b[0;34m\u001b[0m\u001b[0;34m\u001b[0m\u001b[0m\n\u001b[0;32m---> 34\u001b[0;31m     \u001b[0mxtree\u001b[0m \u001b[0;34m=\u001b[0m \u001b[0met\u001b[0m\u001b[0;34m.\u001b[0m\u001b[0mparse\u001b[0m\u001b[0;34m(\u001b[0m\u001b[0mtcx_file_name\u001b[0m\u001b[0;34m)\u001b[0m\u001b[0;34m\u001b[0m\u001b[0;34m\u001b[0m\u001b[0m\n\u001b[0m\u001b[1;32m     35\u001b[0m     \u001b[0mxroot\u001b[0m \u001b[0;34m=\u001b[0m \u001b[0mxtree\u001b[0m\u001b[0;34m.\u001b[0m\u001b[0mgetroot\u001b[0m\u001b[0;34m(\u001b[0m\u001b[0;34m)\u001b[0m\u001b[0;34m\u001b[0m\u001b[0;34m\u001b[0m\u001b[0m\n\u001b[1;32m     36\u001b[0m \u001b[0;34m\u001b[0m\u001b[0m\n",
      "\u001b[0;32m/workspace/miniforge3/envs/client-youngm-ifit/lib/python3.8/xml/etree/ElementTree.py\u001b[0m in \u001b[0;36mparse\u001b[0;34m(source, parser)\u001b[0m\n\u001b[1;32m   1200\u001b[0m     \"\"\"\n\u001b[1;32m   1201\u001b[0m     \u001b[0mtree\u001b[0m \u001b[0;34m=\u001b[0m \u001b[0mElementTree\u001b[0m\u001b[0;34m(\u001b[0m\u001b[0;34m)\u001b[0m\u001b[0;34m\u001b[0m\u001b[0;34m\u001b[0m\u001b[0m\n\u001b[0;32m-> 1202\u001b[0;31m     \u001b[0mtree\u001b[0m\u001b[0;34m.\u001b[0m\u001b[0mparse\u001b[0m\u001b[0;34m(\u001b[0m\u001b[0msource\u001b[0m\u001b[0;34m,\u001b[0m \u001b[0mparser\u001b[0m\u001b[0;34m)\u001b[0m\u001b[0;34m\u001b[0m\u001b[0;34m\u001b[0m\u001b[0m\n\u001b[0m\u001b[1;32m   1203\u001b[0m     \u001b[0;32mreturn\u001b[0m \u001b[0mtree\u001b[0m\u001b[0;34m\u001b[0m\u001b[0;34m\u001b[0m\u001b[0m\n\u001b[1;32m   1204\u001b[0m \u001b[0;34m\u001b[0m\u001b[0m\n",
      "\u001b[0;32m/workspace/miniforge3/envs/client-youngm-ifit/lib/python3.8/xml/etree/ElementTree.py\u001b[0m in \u001b[0;36mparse\u001b[0;34m(self, source, parser)\u001b[0m\n\u001b[1;32m    582\u001b[0m         \u001b[0mclose_source\u001b[0m \u001b[0;34m=\u001b[0m \u001b[0;32mFalse\u001b[0m\u001b[0;34m\u001b[0m\u001b[0;34m\u001b[0m\u001b[0m\n\u001b[1;32m    583\u001b[0m         \u001b[0;32mif\u001b[0m \u001b[0;32mnot\u001b[0m \u001b[0mhasattr\u001b[0m\u001b[0;34m(\u001b[0m\u001b[0msource\u001b[0m\u001b[0;34m,\u001b[0m \u001b[0;34m\"read\"\u001b[0m\u001b[0;34m)\u001b[0m\u001b[0;34m:\u001b[0m\u001b[0;34m\u001b[0m\u001b[0;34m\u001b[0m\u001b[0m\n\u001b[0;32m--> 584\u001b[0;31m             \u001b[0msource\u001b[0m \u001b[0;34m=\u001b[0m \u001b[0mopen\u001b[0m\u001b[0;34m(\u001b[0m\u001b[0msource\u001b[0m\u001b[0;34m,\u001b[0m \u001b[0;34m\"rb\"\u001b[0m\u001b[0;34m)\u001b[0m\u001b[0;34m\u001b[0m\u001b[0;34m\u001b[0m\u001b[0m\n\u001b[0m\u001b[1;32m    585\u001b[0m             \u001b[0mclose_source\u001b[0m \u001b[0;34m=\u001b[0m \u001b[0;32mTrue\u001b[0m\u001b[0;34m\u001b[0m\u001b[0;34m\u001b[0m\u001b[0m\n\u001b[1;32m    586\u001b[0m         \u001b[0;32mtry\u001b[0m\u001b[0;34m:\u001b[0m\u001b[0;34m\u001b[0m\u001b[0;34m\u001b[0m\u001b[0m\n",
      "\u001b[0;31mTypeError\u001b[0m: expected str, bytes or os.PathLike object, not NoneType"
     ]
    }
   ],
   "source": [
    "\n",
    "def app_mainscreen(APP_NAME, sb):\n",
    "    st.header(APP_NAME + \" // \" + CLIENT_NAME)\n",
    "    #st.write(\"Today's date: \" + str(sb.today_date))\n",
    "    #st.file_uploader\n",
    "    csv_file_name = st.file_uploader(\"Name of CSV data file to convert?\", type=['csv'])\n",
    "    \n",
    "    # st.write(csv_file_name)\n",
    "    \n",
    "    # import data\n",
    "    data_df = pd.DataFrame()\n",
    "\n",
    "    if csv_file_name is not None:\n",
    "        data_df = pd.read_csv(csv_file_name, skiprows=2)\n",
    "# created a data frame from the csv.\n",
    "    \n",
    "    data_df.rename(columns={\"Relative Resistance\": \"RelativeResistance\"}, inplace=True)\n",
    "\n",
    "    show_raw_csv = st.checkbox(\"Show raw CSV data\")\n",
    "    if show_raw_csv:\n",
    "        st.write(data_df)\n",
    "            #st.write(new_tcx)\n",
    "            #st.write(TCXFILE)\n",
    "\n",
    "\n",
    "# IMPORT TCX\n",
    "    tcx_file_name = st.file_uploader(\"Name of TCX data file you would like to merge\", type = ['tcx'])\n",
    "\n",
    "    #new_tcx = ''.join(data_df.apply(convert_csv_row_to_xml, axis=1))\n",
    "    \n",
    "    #data_df = load_cached_walking_data()\n",
    "    #sb.datasize = data_df.memory_usage(deep=True).sum() / 1024 / 1024\n",
    "    \n",
    "    # CONVERT TCX to CSV - instead let's just make tcx into a pandas data frame.\n",
    "    xtree = et.parse(tcx_file_name)\n",
    "    xroot = xtree.getroot() \n",
    "\n",
    "    df_cols = [\"DistanceMeters\", \"Cadence\", \"Calories\", \"HeartRateBPM\", \"Time\", \"AltitudeMeters\", \"LongitudeDegrees\", \"LatitudeDegrees\"]\n",
    "    rows = []\n",
    "\n",
    "    for node in xroot: \n",
    "        DistanceMeters = node.find(\"DistanceMeters\").text if node is not None else None\n",
    "        Cadence = node.find(\"Cadence\").text if node is not None else None\n",
    "        Calories = node.find(\"Calories\").text if node is not None else None\n",
    "        HeartRateBPM = node.find(\"HeartRateBPM\").text if node is not None else None\n",
    "        Time = node.attrib.get(\"Time\").text if node is not None else None\n",
    "        AltitudeMeters = node.find(\"AltitudeMeters\").text if node is not None else None\n",
    "        LongitudeDegrees = node.find(\"LongitudeDegrees\").text if node is not None else None\n",
    "        LatitudeDegrees = node.find(\"LatitudeDegrees\").text if node is not None else None\n",
    "        \n",
    "        rows.append({\"DistanceMeters\": DistanceMeters, \"Cadence\": Cadence, \n",
    "                    \"Calories\": Calories, \"HeartRateBPM\": HeartRateBPM,\n",
    "                    \"Time\": Time, \"AltitudeMeters\": AltitudeMeters, \n",
    "                    \"LongitudeDegrees\": LongitudeDegrees, \"LatitudeDegrees\": LatitudeDegrees})\n",
    "\n",
    "    tcx_df = pd.DataFrame(rows, columns = df_cols)\n",
    "\n",
    "    show_raw_xml = st.checkbox(\"Show raw XML data\")\n",
    "    if show_raw_xml:\n",
    "        st.write(tcx_df)\n",
    "\n",
    "    # merging the two\n",
    "    # have to figure out a way to minus time 0 from time 1 in the tcx file - it just comes out as the time and seconds\n",
    "    # pd.merge(tcx_df, data_df, on = \"Time\")\n",
    "\n",
    "sb = app_sidebar(APP_NAME)\n",
    "\n",
    "app_mainscreen(APP_NAME, sb)\n",
    "\n",
    "# TODO: display XML bug?\n",
    "# TODO: join tcx to csv on date/time?\n",
    "# TODO: define testing\n",
    "# TODO: do testing\n",
    "# TODO: complete documentation\n",
    "# TODO: refactor and retest\n",
    "\n",
    "\n",
    "# https://medium.com/analytics-vidhya/converting-xml-data-to-csv-format-using-python-3ea09fa18d38\n",
    "# https://www.geeksforgeeks.org/convert-xml-to-csv-in-python/\n"
   ]
  },
  {
   "cell_type": "markdown",
   "metadata": {},
   "source": []
  }
 ],
 "metadata": {
  "interpreter": {
   "hash": "e55666fbbf217aa3df372b978577f47b6009e2f78e2ec76a584f49cd54a1e62c"
  },
  "kernelspec": {
   "display_name": "Python 2.7.18 64-bit",
   "name": "python3"
  },
  "language_info": {
   "codemirror_mode": {
    "name": "ipython",
    "version": 3
   },
   "file_extension": ".py",
   "mimetype": "text/x-python",
   "name": "python",
   "nbconvert_exporter": "python",
   "pygments_lexer": "ipython3",
   "version": "3.8.12"
  },
  "orig_nbformat": 4
 },
 "nbformat": 4,
 "nbformat_minor": 2
}
