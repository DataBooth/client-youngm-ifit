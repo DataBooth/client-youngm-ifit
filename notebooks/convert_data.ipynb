{
  "cells": [
    {
      "cell_type": "markdown",
      "id": "a86ee3da-2859-428d-a633-cf0a128be1e9",
      "metadata": {
        "id": "a86ee3da-2859-428d-a633-cf0a128be1e9"
      },
      "source": [
        "## Convert Mick's movement data\n",
        "\n",
        "1. Read CSV\n",
        "2. Convert CSV to XML file\n",
        "3. Join the two files together\n",
        "\n",
        "\n",
        "- TODO: A little more \"why\" documentation - Aaron\n",
        "- TODO: TT to get conda environment working again automatically and/or with local VS Code instance - testing of Gitpod.io YAML setup and GitHub.com \"Spaces\" equivalent\n",
        "- TODO: TT - Need to check that both local and remote (in this instance Github.com) data modes work"
      ]
    },
    {
      "cell_type": "code",
      "execution_count": 3,
      "id": "461b5672",
      "metadata": {},
      "outputs": [],
      "source": [
        "#!pip install pandas"
      ]
    },
    {
      "cell_type": "code",
      "execution_count": 4,
      "id": "a4ffb022-0f12-4c59-b967-d310f91cfc7f",
      "metadata": {
        "id": "a4ffb022-0f12-4c59-b967-d310f91cfc7f"
      },
      "outputs": [],
      "source": [
        "import pandas as pd\n",
        "from pathlib import Path"
      ]
    },
    {
      "cell_type": "code",
      "execution_count": 5,
      "id": "OtMNwza5tDbb",
      "metadata": {
        "id": "OtMNwza5tDbb"
      },
      "outputs": [],
      "source": [
        "# Define the location of the data source - either local or Cloud (e.g. Github for non-PII data)\n",
        "\n",
        "# DATASOURCE_TYPE = \"local\"  # Local machine\n",
        "\n",
        "DATASOURCE_TYPE = \"gh\"       # Github (gh) - Synthetic or non-PII data only"
      ]
    },
    {
      "cell_type": "code",
      "execution_count": 6,
      "id": "763544ea-3da8-4550-9042-2074cf77055a",
      "metadata": {
        "id": "763544ea-3da8-4550-9042-2074cf77055a"
      },
      "outputs": [],
      "source": [
        "DATAFILE_PATH = \"data\"\n",
        "DATAFILE_CSV  = \"2021_09_10_15_09_Sassafras_Power_Climb,_Sunset,_South_Carolina.csv\"\n",
        "DATAFILE_URL_PATH = \"https://raw.githubusercontent.com/DataBooth/client-youngm-ifit/main/data/\" \n",
        "DATAFILE_URL = DATAFILE_URL_PATH + DATAFILE_CSV.replace(\",\", \"%2C\")"
      ]
    },
    {
      "cell_type": "code",
      "execution_count": 26,
      "id": "8c4b388a-6c45-4de7-ad76-5cf448c7803d",
      "metadata": {
        "id": "8c4b388a-6c45-4de7-ad76-5cf448c7803d"
      },
      "outputs": [],
      "source": [
        "def set_local_or_remote_data_path(datasource_type, datafile_path, datafile_csv, datafile_url):\n",
        "  if datasource_type ==  \"local\":\n",
        "    datafile = Path(datafile_path) / datafile_csv\n",
        "    print(\"Local datasource: \" + datafile.as_posix())\n",
        "    tcxfile = Path(datafile_path) / datafile_csv.replace(\"csv\", \"tcx\")\n",
        "    print(\"TCX file to be created: \" + tcxfile.as_posix())\n",
        "    return datafile, tcxfile\n",
        "  elif datasource_type == \"gh\":\n",
        "    datafile = datafile_url\n",
        "    print(\"Remote datasource: \" + datafile)\n",
        "    tcxfile = Path(DATAFILE_PATH) / DATAFILE_CSV.replace(\"csv\", \"tcx\")\n",
        "    print(\"TCX file to be created: \" + tcxfile.as_posix())\n",
        "    return datafile, tcxfile\n",
        "  else:\n",
        "    print(\"ERROR: Unknown `datasource_type`\")\n",
        "  return None"
      ]
    },
    {
      "cell_type": "code",
      "execution_count": 29,
      "id": "Zmy_lzKPwcQ1",
      "metadata": {
        "colab": {
          "base_uri": "https://localhost:8080/"
        },
        "id": "Zmy_lzKPwcQ1",
        "outputId": "de5d7ce1-2b60-4c2c-9d94-711b360dc27a"
      },
      "outputs": [
        {
          "name": "stdout",
          "output_type": "stream",
          "text": [
            "Remote datasource: https://raw.githubusercontent.com/DataBooth/client-youngm-ifit/main/data/2021_09_10_15_09_Sassafras_Power_Climb%2C_Sunset%2C_South_Carolina.csv\n",
            "TCX file to be created: data/2021_09_10_15_09_Sassafras_Power_Climb,_Sunset,_South_Carolina.tcx\n"
          ]
        }
      ],
      "source": [
        "datafile, tcxfile = set_local_or_remote_data_path(DATASOURCE_TYPE, DATAFILE_PATH, DATAFILE_CSV, DATAFILE_URL)"
      ]
    },
    {
      "cell_type": "code",
      "execution_count": 19,
      "id": "707c1dd8-54b2-4431-9df6-42b50b217c69",
      "metadata": {
        "colab": {
          "base_uri": "https://localhost:8080/"
        },
        "id": "707c1dd8-54b2-4431-9df6-42b50b217c69",
        "outputId": "f5bda83e-2601-4ec4-e166-3670801aab76"
      },
      "outputs": [
        {
          "name": "stdout",
          "output_type": "stream",
          "text": [
            "    Time   Miles   MPH  Watts   HR  RPM  Resistance  Relative Resistance  \\\n",
            "0  00:00  0.0000  6.56     20  0.0   49           2                    8   \n",
            "1  00:01  0.0021  6.56      1  0.0   49           2                    8   \n",
            "2  00:02  0.0043  6.56      1  0.0   49           2                    8   \n",
            "3  00:03  0.0064  6.56      2  0.0   49           2                    8   \n",
            "4  00:04  0.0085  6.56      3  0.0   48           2                    8   \n",
            "\n",
            "   Incline  \n",
            "0      0.0  \n",
            "1      0.0  \n",
            "2      0.0  \n",
            "3      0.0  \n",
            "4      0.0  \n"
          ]
        }
      ],
      "source": [
        "# How to read csv\n",
        "\n",
        "data_df = pd.read_csv(datafile, skiprows=2)\n",
        "print(data_df.head())\n",
        "\n",
        "# How to read xml\n",
        "# xml_data = open('tcxfile.tcx', 'r').read()\n",
        "# print(xml_data)"
      ]
    },
    {
      "cell_type": "code",
      "execution_count": 20,
      "id": "5c1e2fce-8d52-4282-96b5-0705ae4ba1b6",
      "metadata": {
        "id": "5c1e2fce-8d52-4282-96b5-0705ae4ba1b6"
      },
      "outputs": [],
      "source": [
        "data_df.rename(columns={\"Relative Resistance\": \"RelativeResistance\"}, inplace=True)"
      ]
    },
    {
      "cell_type": "code",
      "execution_count": 21,
      "id": "250a5d85-7010-45aa-8327-b23efc29b39a",
      "metadata": {
        "id": "250a5d85-7010-45aa-8327-b23efc29b39a"
      },
      "outputs": [],
      "source": [
        "# TODO: Aaron to read about self-documenting code \n",
        "\n",
        "def convert_csv_row_to_xml(row):\n",
        "    return \"\"\"<Time>%s</Time>\n",
        "    <Miles>%s</Miles>\n",
        "    <MPH>%s</MPH>\n",
        "    <Watts>%s</Watts>\n",
        "    <HR>%s</HR>\n",
        "    <RPM>%s</RPM>\n",
        "    <Resistance>%s</Resistance>\n",
        "    <Relative Resistance>%s</Relative Resistance>\n",
        "    <Incline>%s</Incline>\"\"\" % (row.Time, row.Miles, row.MPH, row.Watts, row.HR, row.RPM, row.Resistance, row.RelativeResistance, row.Incline)\n",
        "\n",
        "# TODO: The issue I currently have is how to change \"Relative Resistance\" to \"RelativeResistance\" for the above code to work"
      ]
    },
    {
      "cell_type": "code",
      "execution_count": 22,
      "id": "920076e1-c28c-40bf-95a4-e3147883a1ed",
      "metadata": {
        "id": "920076e1-c28c-40bf-95a4-e3147883a1ed"
      },
      "outputs": [],
      "source": [
        "new_tcx = ''.join(data_df.apply(convert_csv_row_to_xml, axis=1))"
      ]
    },
    {
      "cell_type": "code",
      "execution_count": 24,
      "id": "a81a9052-c6ac-451f-915d-d913871633aa",
      "metadata": {
        "id": "a81a9052-c6ac-451f-915d-d913871633aa"
      },
      "outputs": [],
      "source": [
        "#with open(tcxfile, \"a+\") as tcxwrite: \n",
        "#  for line in new_tcx:\n",
        "#    tcxwrite.write(line)"
      ]
    },
    {
      "cell_type": "markdown",
      "id": "8a4f643d-9a89-4449-bd1e-a2d456de25bc",
      "metadata": {
        "id": "8a4f643d-9a89-4449-bd1e-a2d456de25bc"
      },
      "source": [
        "## References\n",
        "\n",
        "* https://towardsdatascience.com/the-easy-way-to-work-with-csv-json-and-xml-in-python-5056f9325ca9\n",
        "* https://stackabuse.com/reading-and-writing-xml-files-in-python-with-pandas/\n",
        "* https://roytuts.com/how-to-convert-csv-to-xml-using-python/\n",
        "* https://stackoverflow.com/questions/41059264/simple-csv-to-xml-conversion-python"
      ]
    }
  ],
  "metadata": {
    "colab": {
      "name": "convert_data.ipynb",
      "provenance": []
    },
    "interpreter": {
      "hash": "625c31d6b4db3d7e7e2853cc30dc2062e1cda684f3e49d5f899ae496ae755fe0"
    },
    "kernelspec": {
      "display_name": "Python 3.8.12 64-bit ('3.8.12': pyenv)",
      "name": "python3"
    },
    "language_info": {
      "codemirror_mode": {
        "name": "ipython",
        "version": 3
      },
      "file_extension": ".py",
      "mimetype": "text/x-python",
      "name": "python",
      "nbconvert_exporter": "python",
      "pygments_lexer": "ipython3",
      "version": "3.8.12"
    }
  },
  "nbformat": 4,
  "nbformat_minor": 5
}
