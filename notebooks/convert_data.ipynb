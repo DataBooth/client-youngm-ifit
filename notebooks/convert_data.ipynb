{
  "nbformat": 4,
  "nbformat_minor": 5,
  "metadata": {
    "interpreter": {
      "hash": "5a932f0131bd3b37022744170b7486e17b0c51aecfe809390bb226b827fce3db"
    },
    "kernelspec": {
      "display_name": "Python 3.8.10 64-bit ('dbooth': conda)",
      "name": "python3"
    },
    "language_info": {
      "codemirror_mode": {
        "name": "ipython",
        "version": 3
      },
      "file_extension": ".py",
      "mimetype": "text/x-python",
      "name": "python",
      "nbconvert_exporter": "python",
      "pygments_lexer": "ipython3",
      "version": "3.8.10"
    },
    "colab": {
      "name": "convert_data.ipynb",
      "provenance": []
    }
  },
  "cells": [
    {
      "cell_type": "markdown",
      "metadata": {
        "id": "a86ee3da-2859-428d-a633-cf0a128be1e9"
      },
      "source": [
        "## Convert Mick's movement data\n",
        "\n",
        "1. Read CSV\n",
        "2. Convert CSV to XML file\n",
        "3. Join the two files together"
      ],
      "id": "a86ee3da-2859-428d-a633-cf0a128be1e9"
    },
    {
      "cell_type": "code",
      "metadata": {
        "id": "8a7d1838-e150-4668-8269-561f0d1d483e"
      },
      "source": [
        "#!pip install pandas"
      ],
      "id": "8a7d1838-e150-4668-8269-561f0d1d483e",
      "execution_count": 1,
      "outputs": []
    },
    {
      "cell_type": "code",
      "metadata": {
        "id": "a4ffb022-0f12-4c59-b967-d310f91cfc7f"
      },
      "source": [
        "import pandas as pd\n",
        "from pathlib import Path"
      ],
      "id": "a4ffb022-0f12-4c59-b967-d310f91cfc7f",
      "execution_count": 2,
      "outputs": []
    },
    {
      "cell_type": "code",
      "metadata": {
        "id": "OtMNwza5tDbb"
      },
      "source": [
        "# DATASOURCE_TYPE = \"local\"  # Local machine\n",
        "DATASOURCE_TYPE = \"gh\"     # Github - Synthetic or non-PII data only\n",
        "\n",
        "#TODO: Need to check that both local and remote (in this instance Github.com) data modes work"
      ],
      "id": "OtMNwza5tDbb",
      "execution_count": 3,
      "outputs": []
    },
    {
      "cell_type": "code",
      "metadata": {
        "id": "763544ea-3da8-4550-9042-2074cf77055a"
      },
      "source": [
        "DATAFILE_PATH = \"data\"\n",
        "DATAFILE_CSV  = \"2021_09_10_15_09_Sassafras_Power_Climb,_Sunset,_South_Carolina.csv\"\n",
        "\n",
        "# DATAFILE_URL = \"https://raw.githubusercontent.com/DataBooth/client-youngm-ifit/main/data/\" + \"2021_09_10_15_09_Sassafras_Power_Climb%2C_Sunset%2C_South_Carolina.csv\"\n",
        "\n",
        "DATAFILE_URL_PATH = \"https://raw.githubusercontent.com/DataBooth/client-youngm-ifit/main/data/\" \n",
        "DATAFILE_URL = DATAFILE_URL_PATH + DATAFILE_CSV.replace(\",\", \"%2C\")"
      ],
      "id": "763544ea-3da8-4550-9042-2074cf77055a",
      "execution_count": 4,
      "outputs": []
    },
    {
      "cell_type": "code",
      "metadata": {
        "id": "acAnOqWvshQP"
      },
      "source": [
        "# print(DATAFILE_URL)"
      ],
      "id": "acAnOqWvshQP",
      "execution_count": 5,
      "outputs": []
    },
    {
      "cell_type": "code",
      "metadata": {
        "id": "8c4b388a-6c45-4de7-ad76-5cf448c7803d"
      },
      "source": [
        "def set_local_or_remote_data_path(datasource_type):\n",
        "  if datasource_type ==  \"local\":\n",
        "    datafile = Path(DATAFILE_PATH) / DATAFILE_CSV\n",
        "    print(\"Local datasource: \" + datafile.as_posix())\n",
        "    tcxfile = Path(DATAFILE_PATH) / DATAFILE_CSV.replace(\"csv\", \"tcx\")\n",
        "    print(\"TCX file to be created: \" + tcxfile.as_posix())\n",
        "    return datafile, tcxfile\n",
        "  elif datasource_type == \"gh\":\n",
        "    datafile = DATAFILE_URL\n",
        "    print(\"Remote datasource: \" + datafile)\n",
        "    tcxfile = DATAFILE_CSV.replace(\"csv\", \"tcx\")\n",
        "    print(\"TCX file to be created: \" + tcxfile)\n",
        "    return datafile, tcxfile\n",
        "  else:\n",
        "    print(\"ERROR: Unknown `datasource_type`\")\n",
        "  return None\n",
        "\n",
        "  #TODO: Aaron - we can refactor further "
      ],
      "id": "8c4b388a-6c45-4de7-ad76-5cf448c7803d",
      "execution_count": 6,
      "outputs": []
    },
    {
      "cell_type": "code",
      "metadata": {
        "colab": {
          "base_uri": "https://localhost:8080/"
        },
        "id": "Zmy_lzKPwcQ1",
        "outputId": "de5d7ce1-2b60-4c2c-9d94-711b360dc27a"
      },
      "source": [
        "datafile, tcxfile = set_local_or_remote_data_path(DATASOURCE_TYPE)"
      ],
      "id": "Zmy_lzKPwcQ1",
      "execution_count": 7,
      "outputs": [
        {
          "output_type": "stream",
          "name": "stdout",
          "text": [
            "Remote datasource: https://raw.githubusercontent.com/DataBooth/client-youngm-ifit/main/data/2021_09_10_15_09_Sassafras_Power_Climb%2C_Sunset%2C_South_Carolina.csv\n",
            "TCX file to be created: 2021_09_10_15_09_Sassafras_Power_Climb,_Sunset,_South_Carolina.tcx\n"
          ]
        }
      ]
    },
    {
      "cell_type": "code",
      "metadata": {
        "id": "98c74c11-e085-4600-a65a-600837a19e9e"
      },
      "source": [
        "# DATAFILE\n",
        "\n",
        "#TODO: Aaron we can re-factor this together if you'd like "
      ],
      "id": "98c74c11-e085-4600-a65a-600837a19e9e",
      "execution_count": 8,
      "outputs": []
    },
    {
      "cell_type": "code",
      "metadata": {
        "id": "78267336-7e2c-423d-826c-567872c6dea8"
      },
      "source": [
        "#!head $DATAFILE"
      ],
      "id": "78267336-7e2c-423d-826c-567872c6dea8",
      "execution_count": 9,
      "outputs": []
    },
    {
      "cell_type": "code",
      "metadata": {
        "id": "707c1dd8-54b2-4431-9df6-42b50b217c69",
        "colab": {
          "base_uri": "https://localhost:8080/"
        },
        "outputId": "f5bda83e-2601-4ec4-e166-3670801aab76"
      },
      "source": [
        "# How to read csv\n",
        "\n",
        "data_df = pd.read_csv(datafile, skiprows=2)\n",
        "print(data_df.head())\n",
        "\n",
        "# How to read xml\n",
        "# xml_data = open('tcxfile.tcx', 'r').read()\n",
        "# print(xml_data)"
      ],
      "id": "707c1dd8-54b2-4431-9df6-42b50b217c69",
      "execution_count": 10,
      "outputs": [
        {
          "output_type": "stream",
          "name": "stdout",
          "text": [
            "    Time   Miles   MPH  Watts  ...  RPM  Resistance  Relative Resistance  Incline\n",
            "0  00:00  0.0000  6.56     20  ...   49           2                    8      0.0\n",
            "1  00:01  0.0021  6.56      1  ...   49           2                    8      0.0\n",
            "2  00:02  0.0043  6.56      1  ...   49           2                    8      0.0\n",
            "3  00:03  0.0064  6.56      2  ...   49           2                    8      0.0\n",
            "4  00:04  0.0085  6.56      3  ...   48           2                    8      0.0\n",
            "\n",
            "[5 rows x 9 columns]\n"
          ]
        }
      ]
    },
    {
      "cell_type": "code",
      "metadata": {
        "id": "5c1e2fce-8d52-4282-96b5-0705ae4ba1b6"
      },
      "source": [
        "data_df.rename(columns={\"Relative Resistance\": \"RelativeResistance\"}, inplace=True)"
      ],
      "id": "5c1e2fce-8d52-4282-96b5-0705ae4ba1b6",
      "execution_count": 11,
      "outputs": []
    },
    {
      "cell_type": "code",
      "metadata": {
        "id": "250a5d85-7010-45aa-8327-b23efc29b39a"
      },
      "source": [
        "# TODO: Aaron to read about self-documenting code \n",
        "\n",
        "def convert_csv_row_to_xml(row):\n",
        "    return \"\"\"<Time>%s</Time>\n",
        "    <Miles>%s</Miles>\n",
        "    <MPH>%s</MPH>\n",
        "    <Watts>%s</Watts>\n",
        "    <HR>%s</HR>\n",
        "    <RPM>%s</RPM>\n",
        "    <Resistance>%s</Resistance>\n",
        "    <Relative Resistance>%s</Relative Resistance>\n",
        "    <Incline>%s</Incline>\"\"\" % (row.Time, row.Miles, row.MPH, row.Watts, row.HR, row.RPM, row.Resistance, row.RelativeResistance, row.Incline)\n",
        "\n",
        "# TODO: The issue I currently have is how to change \"Relative Resistance\" to \"RelativeResistance\" for the above code to work"
      ],
      "id": "250a5d85-7010-45aa-8327-b23efc29b39a",
      "execution_count": 12,
      "outputs": []
    },
    {
      "cell_type": "code",
      "metadata": {
        "id": "920076e1-c28c-40bf-95a4-e3147883a1ed"
      },
      "source": [
        "new_tcx = ''.join(data_df.apply(convert_csv_row_to_xml, axis=1))"
      ],
      "id": "920076e1-c28c-40bf-95a4-e3147883a1ed",
      "execution_count": 13,
      "outputs": []
    },
    {
      "cell_type": "code",
      "metadata": {
        "id": "f5106b68-239e-425f-8119-d43a3d397634"
      },
      "source": [
        "#data_df"
      ],
      "id": "f5106b68-239e-425f-8119-d43a3d397634",
      "execution_count": 14,
      "outputs": []
    },
    {
      "cell_type": "code",
      "metadata": {
        "id": "53e08b3e-b247-4f50-9215-9ae131578cfa"
      },
      "source": [
        "# Join modified XML file to original TCX file\n",
        "\n",
        "\n",
        "# TCXFILE = Path(DATAFILE_PATH) / DATAFILE_CSV.replace(\"csv\", \"tcx\") - see above"
      ],
      "id": "53e08b3e-b247-4f50-9215-9ae131578cfa",
      "execution_count": 15,
      "outputs": []
    },
    {
      "cell_type": "code",
      "metadata": {
        "id": "a81a9052-c6ac-451f-915d-d913871633aa"
      },
      "source": [
        "with open(tcxfile, \"a+\") as tcxwrite: \n",
        "  for line in new_tcx:\n",
        "    tcxwrite.write(line)"
      ],
      "id": "a81a9052-c6ac-451f-915d-d913871633aa",
      "execution_count": 16,
      "outputs": []
    },
    {
      "cell_type": "code",
      "metadata": {
        "id": "e5824ca5-52b8-4e51-b694-1a81fd6d94a6",
        "colab": {
          "base_uri": "https://localhost:8080/"
        },
        "outputId": "e264ce3a-dcbd-497c-856c-f8d3dd83eab1"
      },
      "source": [
        "#!tail -40 $TCXFILE - convert to actual .py code for compatibility between notebook & script\n",
        "\n",
        "get_ipython().system('tail -40 ' + tcxfile)"
      ],
      "id": "e5824ca5-52b8-4e51-b694-1a81fd6d94a6",
      "execution_count": 17,
      "outputs": [
        {
          "output_type": "stream",
          "name": "stdout",
          "text": [
            "    <Miles>5.2245</Miles>\n",
            "    <MPH>9.79</MPH>\n",
            "    <Watts>17</Watts>\n",
            "    <HR>134.0</HR>\n",
            "    <RPM>65</RPM>\n",
            "    <Resistance>6</Resistance>\n",
            "    <Relative Resistance>25</Relative Resistance>\n",
            "    <Incline>0.0</Incline><Time>32:57</Time>\n",
            "    <Miles>5.2295</Miles>\n",
            "    <MPH>9.94</MPH>\n",
            "    <Watts>8</Watts>\n",
            "    <HR>134.0</HR>\n",
            "    <RPM>66</RPM>\n",
            "    <Resistance>1</Resistance>\n",
            "    <Relative Resistance>4</Relative Resistance>\n",
            "    <Incline>0.0</Incline><Time>32:58</Time>\n",
            "    <Miles>5.2295</Miles>\n",
            "    <MPH>9.26</MPH>\n",
            "    <Watts>8</Watts>\n",
            "    <HR>133.5</HR>\n",
            "    <RPM>66</RPM>\n",
            "    <Resistance>1</Resistance>\n",
            "    <Relative Resistance>4</Relative Resistance>\n",
            "    <Incline>0.0</Incline><Time>32:59</Time>\n",
            "    <Miles>5.2295</Miles>\n",
            "    <MPH>8.57</MPH>\n",
            "    <Watts>8</Watts>\n",
            "    <HR>133.0</HR>\n",
            "    <RPM>65</RPM>\n",
            "    <Resistance>1</Resistance>\n",
            "    <Relative Resistance>4</Relative Resistance>\n",
            "    <Incline>0.0</Incline><Time>33:00</Time>\n",
            "    <Miles>5.2313</Miles>\n",
            "    <MPH>8.44</MPH>\n",
            "    <Watts>8</Watts>\n",
            "    <HR>134.0</HR>\n",
            "    <RPM>65</RPM>\n",
            "    <Resistance>1</Resistance>\n",
            "    <Relative Resistance>4</Relative Resistance>\n",
            "    <Incline>0.0</Incline>"
          ]
        }
      ]
    },
    {
      "cell_type": "markdown",
      "metadata": {
        "id": "8a4f643d-9a89-4449-bd1e-a2d456de25bc"
      },
      "source": [
        "## References\n",
        "\n",
        "* https://towardsdatascience.com/the-easy-way-to-work-with-csv-json-and-xml-in-python-5056f9325ca9\n",
        "* https://stackabuse.com/reading-and-writing-xml-files-in-python-with-pandas/\n",
        "* https://roytuts.com/how-to-convert-csv-to-xml-using-python/\n",
        "* https://stackoverflow.com/questions/41059264/simple-csv-to-xml-conversion-python"
      ],
      "id": "8a4f643d-9a89-4449-bd1e-a2d456de25bc"
    }
  ]
}