{
 "cells": [
  {
   "cell_type": "markdown",
   "id": "a86ee3da-2859-428d-a633-cf0a128be1e9",
   "metadata": {},
   "source": [
    "## Convert Mick's movement data\n",
    "\n",
    "1. Read CSV\n",
    "2. Convert CSV to XML file\n",
    "3. Join the two files together"
   ]
  },
  {
   "cell_type": "code",
   "execution_count": 33,
   "id": "8a7d1838-e150-4668-8269-561f0d1d483e",
   "metadata": {},
   "outputs": [],
   "source": [
    "#!pip install pandas"
   ]
  },
  {
   "cell_type": "code",
   "execution_count": 34,
   "id": "a4ffb022-0f12-4c59-b967-d310f91cfc7f",
   "metadata": {},
   "outputs": [],
   "source": [
    "import pandas as pd\n",
    "from pathlib import Path"
   ]
  },
  {
   "cell_type": "code",
   "execution_count": 35,
   "id": "763544ea-3da8-4550-9042-2074cf77055a",
   "metadata": {},
   "outputs": [],
   "source": [
    "DATAFILE_PATH = \"data\"\n",
    "DATAFILE_CSV  = \"2021_09_10_15_09_Sassafras_Power_Climb,_Sunset,_South_Carolina.csv\""
   ]
  },
  {
   "cell_type": "code",
   "execution_count": 36,
   "id": "8c4b388a-6c45-4de7-ad76-5cf448c7803d",
   "metadata": {},
   "outputs": [],
   "source": [
    "DATAFILE = Path(DATAFILE_PATH) / DATAFILE_CSV"
   ]
  },
  {
   "cell_type": "code",
   "execution_count": 37,
   "id": "98c74c11-e085-4600-a65a-600837a19e9e",
   "metadata": {},
   "outputs": [],
   "source": [
    "# DATAFILE"
   ]
  },
  {
   "cell_type": "code",
   "execution_count": 38,
   "id": "78267336-7e2c-423d-826c-567872c6dea8",
   "metadata": {},
   "outputs": [],
   "source": [
    "#!head $DATAFILE"
   ]
  },
  {
   "cell_type": "code",
   "execution_count": 39,
   "id": "707c1dd8-54b2-4431-9df6-42b50b217c69",
   "metadata": {},
   "outputs": [
    {
     "name": "stdout",
     "output_type": "stream",
     "text": [
      "    Time   Miles   MPH  Watts   HR  RPM  Resistance  Relative Resistance  \\\n",
      "0  00:00  0.0000  6.56     20  0.0   49           2                    8   \n",
      "1  00:01  0.0021  6.56      1  0.0   49           2                    8   \n",
      "2  00:02  0.0043  6.56      1  0.0   49           2                    8   \n",
      "3  00:03  0.0064  6.56      2  0.0   49           2                    8   \n",
      "4  00:04  0.0085  6.56      3  0.0   48           2                    8   \n",
      "\n",
      "   Incline  \n",
      "0      0.0  \n",
      "1      0.0  \n",
      "2      0.0  \n",
      "3      0.0  \n",
      "4      0.0  \n"
     ]
    }
   ],
   "source": [
    "# How to read csv\n",
    "\n",
    "data_df = pd.read_csv(DATAFILE, skiprows=2)\n",
    "print(data_df.head())\n",
    "\n",
    "# How to read xml\n",
    "# xml_data = open('tcxfile.tcx', 'r').read()\n",
    "# print(xml_data)"
   ]
  },
  {
   "cell_type": "code",
   "execution_count": 40,
   "id": "5c1e2fce-8d52-4282-96b5-0705ae4ba1b6",
   "metadata": {},
   "outputs": [],
   "source": [
    "data_df.rename(columns={\"Relative Resistance\": \"RelativeResistance\"}, inplace=True)"
   ]
  },
  {
   "cell_type": "code",
   "execution_count": 41,
   "id": "250a5d85-7010-45aa-8327-b23efc29b39a",
   "metadata": {},
   "outputs": [],
   "source": [
    "# TODO: Aaron to read about self-documenting code \n",
    "\n",
    "def convert_csv_row_to_xml(row):\n",
    "    return \"\"\"<Time>%s</Time>\n",
    "    <Miles>%s</Miles>\n",
    "    <MPH>%s</MPH>\n",
    "    <Watts>%s</Watts>\n",
    "    <HR>%s</HR>\n",
    "    <RPM>%s</RPM>\n",
    "    <Resistance>%s</Resistance>\n",
    "    <Relative Resistance>%s</Relative Resistance>\n",
    "    <Incline>%s</Incline>\"\"\" % (row.Time, row.Miles, row.MPH, row.Watts, row.HR, row.RPM, row.Resistance, row.RelativeResistance, row.Incline)\n",
    "\n",
    "# TODO: The issue I currently have is how to change \"Relative Resistance\" to \"RelativeResistance\" for the above code to work"
   ]
  },
  {
   "cell_type": "code",
   "execution_count": 42,
   "id": "920076e1-c28c-40bf-95a4-e3147883a1ed",
   "metadata": {},
   "outputs": [],
   "source": [
    "new_tcx = ''.join(data_df.apply(convert_csv_row_to_xml, axis=1))"
   ]
  },
  {
   "cell_type": "code",
   "execution_count": 43,
   "id": "f5106b68-239e-425f-8119-d43a3d397634",
   "metadata": {},
   "outputs": [],
   "source": [
    "#data_df"
   ]
  },
  {
   "cell_type": "code",
   "execution_count": 44,
   "id": "53e08b3e-b247-4f50-9215-9ae131578cfa",
   "metadata": {},
   "outputs": [],
   "source": [
    "# Join modified XML file to original TCX file\n",
    "\n",
    "TCXFILE = Path(DATAFILE_PATH) / DATAFILE_CSV.replace(\"csv\", \"tcx\")"
   ]
  },
  {
   "cell_type": "code",
   "execution_count": 45,
   "id": "79737b9f-bd01-45fc-b66a-eb5b8fd59b54",
   "metadata": {},
   "outputs": [
    {
     "data": {
      "text/plain": [
       "PosixPath('data/2021_09_10_15_09_Sassafras_Power_Climb,_Sunset,_South_Carolina.tcx')"
      ]
     },
     "execution_count": 45,
     "metadata": {},
     "output_type": "execute_result"
    }
   ],
   "source": [
    "TCXFILE"
   ]
  },
  {
   "cell_type": "code",
   "execution_count": 46,
   "id": "a81a9052-c6ac-451f-915d-d913871633aa",
   "metadata": {},
   "outputs": [],
   "source": [
    "with open(TCXFILE, \"a\") as tcxwrite: \n",
    "  for line in new_tcx:\n",
    "    tcxwrite.write(line)"
   ]
  },
  {
   "cell_type": "code",
   "execution_count": 47,
   "id": "e5824ca5-52b8-4e51-b694-1a81fd6d94a6",
   "metadata": {},
   "outputs": [
    {
     "name": "stdout",
     "output_type": "stream",
     "text": [
      "    <Miles>5.2245</Miles>\n",
      "    <MPH>9.79</MPH>\n",
      "    <Watts>17</Watts>\n",
      "    <HR>134.0</HR>\n",
      "    <RPM>65</RPM>\n",
      "    <Resistance>6</Resistance>\n",
      "    <Relative Resistance>25</Relative Resistance>\n",
      "    <Incline>0.0</Incline><Time>32:57</Time>\n",
      "    <Miles>5.2295</Miles>\n",
      "    <MPH>9.94</MPH>\n",
      "    <Watts>8</Watts>\n",
      "    <HR>134.0</HR>\n",
      "    <RPM>66</RPM>\n",
      "    <Resistance>1</Resistance>\n",
      "    <Relative Resistance>4</Relative Resistance>\n",
      "    <Incline>0.0</Incline><Time>32:58</Time>\n",
      "    <Miles>5.2295</Miles>\n",
      "    <MPH>9.26</MPH>\n",
      "    <Watts>8</Watts>\n",
      "    <HR>133.5</HR>\n",
      "    <RPM>66</RPM>\n",
      "    <Resistance>1</Resistance>\n",
      "    <Relative Resistance>4</Relative Resistance>\n",
      "    <Incline>0.0</Incline><Time>32:59</Time>\n",
      "    <Miles>5.2295</Miles>\n",
      "    <MPH>8.57</MPH>\n",
      "    <Watts>8</Watts>\n",
      "    <HR>133.0</HR>\n",
      "    <RPM>65</RPM>\n",
      "    <Resistance>1</Resistance>\n",
      "    <Relative Resistance>4</Relative Resistance>\n",
      "    <Incline>0.0</Incline><Time>33:00</Time>\n",
      "    <Miles>5.2313</Miles>\n",
      "    <MPH>8.44</MPH>\n",
      "    <Watts>8</Watts>\n",
      "    <HR>134.0</HR>\n",
      "    <RPM>65</RPM>\n",
      "    <Resistance>1</Resistance>\n",
      "    <Relative Resistance>4</Relative Resistance>\n",
      "    <Incline>0.0</Incline>"
     ]
    }
   ],
   "source": [
    "#!tail -40 $TCXFILE - convert to actual .py code for compatibility between notebook & script\n",
    "\n",
    "get_ipython().system('tail -40 ' + TCXFILE.as_posix())"
   ]
  },
  {
   "cell_type": "markdown",
   "id": "8a4f643d-9a89-4449-bd1e-a2d456de25bc",
   "metadata": {},
   "source": [
    "## References\n",
    "\n",
    "* https://towardsdatascience.com/the-easy-way-to-work-with-csv-json-and-xml-in-python-5056f9325ca9\n",
    "* https://stackabuse.com/reading-and-writing-xml-files-in-python-with-pandas/\n",
    "* https://roytuts.com/how-to-convert-csv-to-xml-using-python/\n",
    "* https://stackoverflow.com/questions/41059264/simple-csv-to-xml-conversion-python"
   ]
  }
 ],
 "metadata": {
  "interpreter": {
   "hash": "5a932f0131bd3b37022744170b7486e17b0c51aecfe809390bb226b827fce3db"
  },
  "kernelspec": {
   "display_name": "Python 3.8.10 64-bit ('dbooth': conda)",
   "name": "python3"
  },
  "language_info": {
   "codemirror_mode": {
    "name": "ipython",
    "version": 3
   },
   "file_extension": ".py",
   "mimetype": "text/x-python",
   "name": "python",
   "nbconvert_exporter": "python",
   "pygments_lexer": "ipython3",
   "version": "3.8.10"
  }
 },
 "nbformat": 4,
 "nbformat_minor": 5
}
